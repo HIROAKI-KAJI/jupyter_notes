{
 "cells": [
  {
   "cell_type": "markdown",
   "id": "8bb0236c",
   "metadata": {},
   "source": [
    "# スクレイピングサンプル"
   ]
  },
  {
   "cell_type": "markdown",
   "id": "771d1a66",
   "metadata": {},
   "source": [
    "## SELENIUM でgooglemap scliping"
   ]
  },
  {
   "cell_type": "markdown",
   "id": "5e8814e2",
   "metadata": {},
   "source": [
    "## selenium"
   ]
  },
  {
   "cell_type": "code",
   "execution_count": 90,
   "id": "0ec35871",
   "metadata": {
    "scrolled": true
   },
   "outputs": [
    {
     "name": "stdout",
     "output_type": "stream",
     "text": [
      "Defaulting to user installation because normal site-packages is not writeable\n",
      "Requirement already satisfied: selenium==3.141.0 in /home/billiards/.local/lib/python3.8/site-packages (3.141.0)\n",
      "Requirement already satisfied: urllib3 in /home/billiards/.local/lib/python3.8/site-packages (from selenium==3.141.0) (1.26.13)\n",
      "\n",
      "\u001b[1m[\u001b[0m\u001b[34;49mnotice\u001b[0m\u001b[1;39;49m]\u001b[0m\u001b[39;49m A new release of pip available: \u001b[0m\u001b[31;49m22.3.1\u001b[0m\u001b[39;49m -> \u001b[0m\u001b[32;49m23.0.1\u001b[0m\n",
      "\u001b[1m[\u001b[0m\u001b[34;49mnotice\u001b[0m\u001b[1;39;49m]\u001b[0m\u001b[39;49m To update, run: \u001b[0m\u001b[32;49mpython3 -m pip install --upgrade pip\u001b[0m\n"
     ]
    }
   ],
   "source": [
    "!pip install selenium==3.141.0"
   ]
  },
  {
   "cell_type": "markdown",
   "id": "005c7ce7",
   "metadata": {},
   "source": [
    "### CHOME_DRIVER INSTALL"
   ]
  },
  {
   "cell_type": "markdown",
   "id": "36d2970d",
   "metadata": {},
   "source": [
    "※パソコンに入っているクロームとバージョンを合わせてください。\n",
    "\n",
    "(そのまま実行したら、エラーの中にバージョンが出てるので、それをコピーするといいです。）"
   ]
  },
  {
   "cell_type": "code",
   "execution_count": 4,
   "id": "73b6cc04",
   "metadata": {},
   "outputs": [
    {
     "name": "stdout",
     "output_type": "stream",
     "text": [
      "Defaulting to user installation because normal site-packages is not writeable\n",
      "Collecting chromedriver-binary==112.0.5615.49\n",
      "  Using cached chromedriver-binary-112.0.5615.49.0.tar.gz (5.1 kB)\n",
      "  Preparing metadata (setup.py) ... \u001b[?25ldone\n",
      "\u001b[?25hBuilding wheels for collected packages: chromedriver-binary\n",
      "  Building wheel for chromedriver-binary (setup.py) ... \u001b[?25ldone\n",
      "\u001b[?25h  Created wheel for chromedriver-binary: filename=chromedriver_binary-112.0.5615.49.0-py3-none-any.whl size=7026199 sha256=9df6018e7c0cd666b17583bfe896b7c0b138207343745ae1738f64fc5c1cfe05\n",
      "  Stored in directory: /home/billiards/.cache/pip/wheels/79/0a/26/c9165e2db7b7cb97318007ce3508f9218e50098bcd0306a00e\n",
      "Successfully built chromedriver-binary\n",
      "Installing collected packages: chromedriver-binary\n",
      "Successfully installed chromedriver-binary-112.0.5615.49.0\n",
      "\n",
      "\u001b[1m[\u001b[0m\u001b[34;49mnotice\u001b[0m\u001b[1;39;49m]\u001b[0m\u001b[39;49m A new release of pip available: \u001b[0m\u001b[31;49m22.3.1\u001b[0m\u001b[39;49m -> \u001b[0m\u001b[32;49m23.0.1\u001b[0m\n",
      "\u001b[1m[\u001b[0m\u001b[34;49mnotice\u001b[0m\u001b[1;39;49m]\u001b[0m\u001b[39;49m To update, run: \u001b[0m\u001b[32;49mpython3 -m pip install --upgrade pip\u001b[0m\n"
     ]
    }
   ],
   "source": [
    "!pip install chromedriver-binary==112.0.5615.49"
   ]
  },
  {
   "cell_type": "markdown",
   "id": "9e409e55",
   "metadata": {},
   "source": [
    "### import and open google_map"
   ]
  },
  {
   "cell_type": "code",
   "execution_count": 60,
   "id": "2f9e1512",
   "metadata": {},
   "outputs": [],
   "source": [
    "from selenium import webdriver\n",
    "from time import sleep\n",
    "import chromedriver_binary #CHOME DRIVER\n",
    "\n",
    "from selenium.webdriver.common.by import By\n",
    "driver = webdriver.Chrome()\n",
    "\n",
    "url = 'https://www.google.com/maps'\n",
    "driver.get(url)"
   ]
  },
  {
   "cell_type": "markdown",
   "id": "704903fe",
   "metadata": {},
   "source": [
    "## 検索対象リスト作成"
   ]
  },
  {
   "cell_type": "code",
   "execution_count": 83,
   "id": "2615e44f",
   "metadata": {},
   "outputs": [],
   "source": [
    "serch_text = \"ダーツ場\""
   ]
  },
  {
   "cell_type": "code",
   "execution_count": 84,
   "id": "67836ebd",
   "metadata": {},
   "outputs": [],
   "source": [
    "prefecrtures = [ '北海道',\n",
    "                 '青森県',\n",
    "                 '岩手県',\n",
    "                 '宮城県',\n",
    "                 '秋田県',\n",
    "                 '山形県',\n",
    "                 '福島県',\n",
    "                 '茨城県',\n",
    "                 '栃木県',\n",
    "                 '群馬県',\n",
    "                 '埼玉県',\n",
    "                 '千葉県',\n",
    "                 '東京都',\n",
    "                 '神奈川県',\n",
    "                 '新潟県',\n",
    "                 '富山県',\n",
    "                 '石川県',\n",
    "                 '福井県',\n",
    "                 '山梨県',\n",
    "                 '長野県',\n",
    "                 '岐阜県',\n",
    "                 '静岡県',\n",
    "                 '愛知県',\n",
    "                 '三重県',\n",
    "                 '滋賀県',\n",
    "                 '京都府',\n",
    "                 '大阪府',\n",
    "                 '兵庫県',\n",
    "                 '奈良県',\n",
    "                 '和歌山県',\n",
    "                 '鳥取県',\n",
    "                 '島根県',\n",
    "                 '岡山県',\n",
    "                 '広島県',\n",
    "                 '山口県',\n",
    "                 '徳島県',\n",
    "                 '香川県',\n",
    "                 '愛媛県',\n",
    "                 '高知県',\n",
    "                 '福岡県',\n",
    "                 '佐賀県',\n",
    "                 '長崎県',\n",
    "                 '熊本県',\n",
    "                 '大分県',\n",
    "                 '宮崎県',\n",
    "                 '鹿児島県',\n",
    "                 '沖縄県']"
   ]
  },
  {
   "cell_type": "code",
   "execution_count": 85,
   "id": "291d7b73",
   "metadata": {},
   "outputs": [
    {
     "name": "stdout",
     "output_type": "stream",
     "text": [
      "['ダーツ場 北海道', 'ダーツ場 青森県', 'ダーツ場 岩手県', 'ダーツ場 宮城県', 'ダーツ場 秋田県', 'ダーツ場 山形県', 'ダーツ場 福島県', 'ダーツ場 茨城県', 'ダーツ場 栃木県', 'ダーツ場 群馬県', 'ダーツ場 埼玉県', 'ダーツ場 千葉県', 'ダーツ場 東京都', 'ダーツ場 神奈川県', 'ダーツ場 新潟県', 'ダーツ場 富山県', 'ダーツ場 石川県', 'ダーツ場 福井県', 'ダーツ場 山梨県', 'ダーツ場 長野県', 'ダーツ場 岐阜県', 'ダーツ場 静岡県', 'ダーツ場 愛知県', 'ダーツ場 三重県', 'ダーツ場 滋賀県', 'ダーツ場 京都府', 'ダーツ場 大阪府', 'ダーツ場 兵庫県', 'ダーツ場 奈良県', 'ダーツ場 和歌山県', 'ダーツ場 鳥取県', 'ダーツ場 島根県', 'ダーツ場 岡山県', 'ダーツ場 広島県', 'ダーツ場 山口県', 'ダーツ場 徳島県', 'ダーツ場 香川県', 'ダーツ場 愛媛県', 'ダーツ場 高知県', 'ダーツ場 福岡県', 'ダーツ場 佐賀県', 'ダーツ場 長崎県', 'ダーツ場 熊本県', 'ダーツ場 大分県', 'ダーツ場 宮崎県', 'ダーツ場 鹿児島県', 'ダーツ場 沖縄県']\n"
     ]
    }
   ],
   "source": [
    "serch_list = list()\n",
    "\n",
    "for pre in prefecrtures:\n",
    "    serch_list.append(serch_text + \" \" + pre)\n",
    "    \n",
    "print(serch_list)"
   ]
  },
  {
   "cell_type": "markdown",
   "id": "e814d4f0",
   "metadata": {},
   "source": [
    "### 実際に検索し、その結果をリスト化"
   ]
  },
  {
   "cell_type": "code",
   "execution_count": 86,
   "id": "0e0c7832",
   "metadata": {
    "scrolled": true
   },
   "outputs": [],
   "source": [
    "serch_dict = dict()\n",
    "\n",
    "for serch_prefec in serch_list:\n",
    "    serch_BOX = driver.find_element_by_id(\"searchboxinput\")\n",
    "    serch_BOX.clear()\n",
    "\n",
    "    serch_BOX.send_keys(serch_prefec)\n",
    "\n",
    "    serch_button = driver.find_element_by_id(\"searchbox-searchbutton\")\n",
    "    serch_button.click()\n",
    "    \n",
    "    sleep(5)\n",
    "    names = driver.find_elements_by_class_name(\"hfpxzc\")\n",
    "    lis = list()\n",
    "    for n in names:\n",
    "        lis.append(n.get_attribute('aria-label'))\n",
    "        \n",
    "    serch_dict.update({serch_prefec : lis})"
   ]
  },
  {
   "cell_type": "code",
   "execution_count": 87,
   "id": "b79aded8",
   "metadata": {},
   "outputs": [
    {
     "data": {
      "text/plain": [
       "{'ダーツ場 北海道': ['& Darts Asante Billiards',\n",
       "  'Playing Bar 10224',\n",
       "  'AMUSEMENT BAR IMPACT',\n",
       "  'ポケット・ナイン',\n",
       "  'あいつんち 札幌 ビリヤード&ダーツバー',\n",
       "  'Dinosubiriyado & Datsuobihiro'],\n",
       " 'ダーツ場 青森県': ['Seven Horse',\n",
       "  'BERRY BERRY',\n",
       "  'BAR ZERO',\n",
       "  'B.I.G.',\n",
       "  'Connect',\n",
       "  'BAR 黒黒'],\n",
       " 'ダーツ場 岩手県': ['PlayGarden 盛岡大通り店',\n",
       "  '愛郷 ビリヤード＆談話室',\n",
       "  'アメリカンビリヤードＣ＆Ｍ',\n",
       "  'BRIDGE Billiards',\n",
       "  'SHARAKU',\n",
       "  '田岡倶楽部'],\n",
       " 'ダーツ場 宮城県': ['ダイニングダーツバーBee 仙台店',\n",
       "  'BaneBAGUS ｰバネバグースｰ 仙台店',\n",
       "  'crowd',\n",
       "  'ダーツ&ダイニングバー Red Rock',\n",
       "  'Darts Lounge Arrow',\n",
       "  'DINING BAR DOJO 吉成道場'],\n",
       " 'ダーツ場 秋田県': ['STAND UP BOSS',\n",
       "  \"BAR Fin's\",\n",
       "  'Bongo',\n",
       "  'ＢｌａｃｋＣｈｅｒｒｙ',\n",
       "  'Pazzo',\n",
       "  'Cafe & Bar BONDS'],\n",
       " 'ダーツ場 山形県': ['ALBA',\n",
       "  'ＹＡＭＡＴＯ',\n",
       "  'ＤａｒｔｓＢａｒアルベロ（ａｌｂｅｒｏ）',\n",
       "  'Cafe&Bar LEGACY',\n",
       "  'Bar Strange',\n",
       "  'Cafe&Bar JAM カフェ & バー ジャム'],\n",
       " 'ダーツ場 福島県': ['Café&Darts Bar LOCO TRIBE',\n",
       "  'セシュペール（Ｃ’ｅｓｔＳｕｐｅｒ．）',\n",
       "  'パブ・グラン',\n",
       "  'ダーツバー オールディーズ',\n",
       "  'Vivement',\n",
       "  'ｄｉｎｉｎｇｃａｆｅ＆ｄａｒｔｓ・ＢＡＲＣＡ'],\n",
       " 'ダーツ場 茨城県': ['Darts Bar O.R.B.',\n",
       "  'DartsBar B-DOG土浦店',\n",
       "  'BanGaRanG守谷店',\n",
       "  'CAFEBAR WAKE',\n",
       "  'REAL',\n",
       "  'Music&Darts Bar RHYTHM'],\n",
       " 'ダーツ場 栃木県': ['Bar Hafa Adai',\n",
       "  'Darts Bar infel.',\n",
       "  \"Cafe&Bar Day's\",\n",
       "  'DARTS&ROCK BAR HIDE OUT',\n",
       "  '絶景ダーツバー',\n",
       "  'Amusement Bar KAIBUTSULAND'],\n",
       " 'ダーツ場 群馬県': ['Asobi Bar Snow',\n",
       "  'Tamariba Ostim',\n",
       "  'BAR JAIL',\n",
       "  'Darts&Bar One Eighty',\n",
       "  'BAR VANQUISH (ヴァンキッシュ・バンキッシュ)',\n",
       "  'BAR エターナル'],\n",
       " 'ダーツ場 埼玉県': ['ダイニングダーツバーBee 大宮店',\n",
       "  'ダーツカフェデルタ大宮店（DartsCafeDELTA大宮店）',\n",
       "  'Link 浦和店',\n",
       "  'Darts UP大宮店',\n",
       "  'BAGUS－バグース－大宮店',\n",
       "  'Zicca'],\n",
       " 'ダーツ場 千葉県': ['Bully’s千葉店',\n",
       "  'Amusement Bar Emirates',\n",
       "  'Darts&Bar Forest',\n",
       "  'Pointochibaten',\n",
       "  'ダーツカフェデルタ船橋店（DartsCafeDELTA船橋店）',\n",
       "  'Ｂarts HAT'],\n",
       " 'ダーツ場 東京都': ['REGALO Tokyo Yaesu',\n",
       "  'Bee Dining Darts Bar',\n",
       "  'ダーツバー Room',\n",
       "  'LOOP Maid & Darts Bar',\n",
       "  \"Darts Bar A's 神楽坂店\",\n",
       "  'ダーツバーＡＮＰＩＥＣＥ'],\n",
       " 'ダーツ場 神奈川県': ['Dining Darts Bar Bee Bee Kawasaki',\n",
       "  'Darts UP横浜2号店',\n",
       "  'BAGUS－バグース－横浜西口店',\n",
       "  'ダーツバー',\n",
       "  'Grove Kannai',\n",
       "  'Darts UP川崎店'],\n",
       " 'ダーツ場 新潟県': ['Bar Aegis',\n",
       "  'Bar T-ONE カラオケ | ダーツ | ビリヤード | バー',\n",
       "  'ワンコインバー 『とことん！』',\n",
       "  'aobar',\n",
       "  '鳥春',\n",
       "  'Oh My God Niigata'],\n",
       " 'ダーツ場 富山県': ['たまりBARペイズリー',\n",
       "  'Amusement Bar Hearts With ShowMan',\n",
       "  'ハングアウト',\n",
       "  'Amuse&Drunk Hangout',\n",
       "  'アミューズメントバー おちょ',\n",
       "  'ASOBIBAR 富山(アソビバー）'],\n",
       " 'ダーツ場 石川県': ['ダーツショップ バレット',\n",
       "  'G−Shot',\n",
       "  'Sky Shot',\n",
       "  'ダーツバー ブル',\n",
       "  'PlayGarden金沢諸江店',\n",
       "  'VIVA 2 Billiards'],\n",
       " 'ダーツ場 福井県': ['Golf&dartsbar TRUMP',\n",
       "  'Tramonti',\n",
       "  'AmeBar 8-OTTO-',\n",
       "  'Nice70s',\n",
       "  'Amusement Bar DOOR',\n",
       "  'American Bar Star'],\n",
       " 'ダーツ場 山梨県': ['BAR FUNNY',\n",
       "  'ダーツバーB-GARAGE 甲府春日モール店',\n",
       "  'Wasian Chot Bar SOFU',\n",
       "  'フェアリーズ',\n",
       "  'AMUSEMENT BAR BRAVE',\n",
       "  'Ocho'],\n",
       " 'ダーツ場 長野県': ['Dining Bar La＋',\n",
       "  'ダーツ＆ダイニング・ラプラス',\n",
       "  'Fine',\n",
       "  'SHOOTING BAR G-CODE 長野店',\n",
       "  'ｏｎｅｃｏｉｎＢａｒＲｉｓｅ',\n",
       "  'Bar Brown Base'],\n",
       " 'ダーツ場 岐阜県': ['Cafe & Darts Galleria',\n",
       "  'S STYLE2 エススタイルツー',\n",
       "  'BeLazy',\n",
       "  'ＢＡＲ ７１',\n",
       "  'オージイー（ＯＯＺＹ）',\n",
       "  'Crazy Dog'],\n",
       " 'ダーツ場 静岡県': ['Darts Bar ONE Billiards',\n",
       "  '& Darts ZERO Billiards',\n",
       "  'スラッシュ（ＳＲａＳＨ）',\n",
       "  'Ｋ２',\n",
       "  '& Darts B - DAMA Billiards',\n",
       "  'Aiming Billiards'],\n",
       " 'ダーツ場 愛知県': ['株式会社ハイブクリエーション名古屋営業所',\n",
       "  'Karaoke JOYJOY Chitashimizugaokaten',\n",
       "  'BeeRUSH',\n",
       "  'Dining Darts Bar Bee Bee Sakae',\n",
       "  'DARTS&DINING FUKUROU',\n",
       "  'Asian style Bar tuktuk'],\n",
       " 'ダーツ場 三重県': ['K . G Billiards',\n",
       "  'D-GAIA',\n",
       "  'Darts&American Bar LINE',\n",
       "  'Darts & Dinning Bar Fix Daimon',\n",
       "  'カラオケJOYJOY アソビックスあさひ店',\n",
       "  'Sun Bowl'],\n",
       " 'ダーツ場 滋賀県': ['DARTS BAR DIVE瀬田店',\n",
       "  'Clound',\n",
       "  'Punks Cafe',\n",
       "  'Ｒ’ｓＭＯＯＮ',\n",
       "  'Roof',\n",
       "  'SKY JOKER スカイジョーカー'],\n",
       " 'ダーツ場 京都府': [\"京都祇園四条Cafe＆Bar Libre's\",\n",
       "  'DartsBar Class',\n",
       "  'Datsukafe Garden Kyototen',\n",
       "  'Bar Spring スプリング',\n",
       "  'ＳｈｏｔＢａｒ・Ｂｅｎａｓｕｋａ',\n",
       "  'Dining Darts Bar Bee Kawaramachi'],\n",
       " 'ダーツ場 大阪府': ['ダーツショップ ダーツハイブ【大阪梅田店】DARTS HIVE',\n",
       "  'Dining Darts Bar Bee Bee Namba shop',\n",
       "  'max osaka 梅田店',\n",
       "  'DartsBar eX 梅田',\n",
       "  'Balabushka',\n",
       "  'BARハイサイ'],\n",
       " 'ダーツ場 兵庫県': ['ダーツショップ ダーツハイブ【大阪梅田店】DARTS HIVE',\n",
       "  'CAFE & DARTS BAR REGALO 三宮',\n",
       "  'ダイニングダーツバーBee 三宮店',\n",
       "  'Darts&Bar Route66',\n",
       "  'Billiard & Darts SUN 神戸元町店',\n",
       "  'BAR Nyx（バー ニュクス）'],\n",
       " 'ダーツ場 奈良県': ['ダーツショップ ダーツハイブ【大阪梅田店】DARTS HIVE',\n",
       "  'Cafe&Bar Darts TOPGUN',\n",
       "  'Crows',\n",
       "  'Datsukafegaden Narahorai',\n",
       "  'ダーツバー JIGGER ジガー',\n",
       "  'ダーツバー Ace club'],\n",
       " 'ダーツ場 和歌山県': ['DARTS ＆ BILLIARD NINE',\n",
       "  \"Crazy's Bar Guilty\",\n",
       "  'JOKER BAE',\n",
       "  'Bar Bingo',\n",
       "  'BERTH バース ダーツ カラオケ ボードゲーム ショットバー',\n",
       "  'Girls Bar RANCE ガールズバー ランス'],\n",
       " 'ダーツ場 鳥取県': ['Darts&Bar Lance',\n",
       "  'Big Apple',\n",
       "  'Bar Desperado',\n",
       "  'PLUSNINE',\n",
       "  'Darts and Pool arrows',\n",
       "  'グローリィー'],\n",
       " 'ダーツ場 島根県': ['ＰｏｏｌＢｕｄｄｙ',\n",
       "  'Agio',\n",
       "  'TAP RAP CLUB',\n",
       "  'カフェ&ダーツバーBB',\n",
       "  'Young Billiards',\n",
       "  'CURT （クート）'],\n",
       " 'ダーツ場 岡山県': ['AVALON',\n",
       "  'Ber Eight',\n",
       "  'BAR LUNASOL',\n",
       "  'ONE 2 ONE ビリヤード&ダーツBAR',\n",
       "  'アンジュAnge ダーツバー',\n",
       "  'BAR GROWING 岡山 カジュアルバー＆ダーツ'],\n",
       " 'ダーツ場 広島県': ['ダイニングダーツバーBee 広島店',\n",
       "  'Bar Pleasure',\n",
       "  'SKY',\n",
       "  'ルイードタバーン（LOUID TAVERN）',\n",
       "  'ARISE',\n",
       "  'ラスベガス・ダーツバー'],\n",
       " 'ダーツ場 山口県': ['Daburuzero Billiards',\n",
       "  'プールジャム',\n",
       "  'Tappusu',\n",
       "  '撞球・酒場ちょんまげ',\n",
       "  'ビリヤード＆ダーツPlayGarden',\n",
       "  \"U's Bowl Ube\"],\n",
       " 'ダーツ場 徳島県': ['１４１',\n",
       "  'Amusement BAR Fly',\n",
       "  'Darts Bar 創生児',\n",
       "  'ライツ（Ｒｉｇｈｔ’ｓ）',\n",
       "  'グッダイハウス',\n",
       "  'NEAT BAR'],\n",
       " 'ダーツ場 香川県': ['ダーツバー',\n",
       "  'Darts&Bar BURST バースト',\n",
       "  'DARTS BAR REGALO',\n",
       "  'どりーむ２F',\n",
       "  'Donzoko',\n",
       "  'Cafe&BarJEWEL'],\n",
       " 'ダーツ場 愛媛県': ['Dartsbar Hachi',\n",
       "  'Cafe&Bar Freely',\n",
       "  \"Darts space D's\",\n",
       "  '14-1 FOURTEEN-ONE',\n",
       "  'カルムロッジ',\n",
       "  'Darts&Bar LOG LOG'],\n",
       " 'ダーツ場 高知県': ['ダーツ・スポット・ブル（ＤＡＲＴＳ・ＳＰＯＴ・ＢＵＬＬ）',\n",
       "  'mix spot doll',\n",
       "  'クイシンｰCUISIN-',\n",
       "  'JUNCTION 高知市追手筋のバー',\n",
       "  '旅Cafe&Bar O Mundo(おむんど)',\n",
       "  'K’s BAR'],\n",
       " 'ダーツ場 福岡県': ['BeeRUSH天神店',\n",
       "  'Darts shop＆Bar blast 大名店',\n",
       "  'ARROWS博多 ～DARTS＆KARAOKE BAR～',\n",
       "  'ダーツバー＆カラオケバー ZINO（ジーノ）博多店',\n",
       "  'ダーツバー＆カラオケバー ZINO（ジーノ）天神店',\n",
       "  'ダーツバー バタフライ'],\n",
       " 'ダーツ場 佐賀県': ['DARTS BAR LEFT',\n",
       "  'ダーツアンドバー ホーム DART＆BAR home',\n",
       "  'ダーツ＆バー リトル東京',\n",
       "  'アミューズメントバー ダンジョン',\n",
       "  'izaka&sportsbar CRON',\n",
       "  'Laugh Tale（ラフテル）'],\n",
       " 'ダーツ場 長崎県': ['ダーツバー AGORA',\n",
       "  'Arrows',\n",
       "  'Invaders',\n",
       "  'Bar GROOVE',\n",
       "  'Bar Owl',\n",
       "  'Bar BELLE'],\n",
       " 'ダーツ場 熊本県': ['Darts & bar CIBLE シーブル',\n",
       "  'グランブルー',\n",
       "  'MONSTER',\n",
       "  'Bar AllegRa',\n",
       "  'ZINO 熊本店',\n",
       "  'ＧＯ−ＯＮＥ'],\n",
       " 'ダーツ場 大分県': ['ティト ジャングル TiTO JUNGLE',\n",
       "  'Jonny’s Bar & Grill 大分店',\n",
       "  'HAVE A NICE DAY!',\n",
       "  \"Link's+\",\n",
       "  'Bar alpha',\n",
       "  'トランキーロ'],\n",
       " 'ダーツ場 宮崎県': ['Irish&SportsPUB B-GARAGE 宮崎一番街店',\n",
       "  'DARTS BAR Horse One',\n",
       "  'darts house JOHN.Q',\n",
       "  'Supple',\n",
       "  'ダーツバー R',\n",
       "  'Darts&Bar BLINK'],\n",
       " 'ダーツ場 鹿児島県': ['D-BULL×DC',\n",
       "  'Ex Labo',\n",
       "  'TiTO JACK',\n",
       "  'ダーツバー アローズ DARTS×BAR Arrows',\n",
       "  'The DAY Dining',\n",
       "  'ダーツバーアグラス DartsBar Agrass'],\n",
       " 'ダーツ場 沖縄県': ['カジュアルダーツバー琉球ＮＯＶＡ',\n",
       "  'Neo Baata Billards & Darts & Cafebar',\n",
       "  'ダーツスタジアム 沖縄',\n",
       "  'サザンガーデン',\n",
       "  'ダーツバーＮａｎＣｒｅｗ',\n",
       "  'レモンハート']}"
      ]
     },
     "execution_count": 87,
     "metadata": {},
     "output_type": "execute_result"
    }
   ],
   "source": [
    "serch_dict"
   ]
  },
  {
   "cell_type": "code",
   "execution_count": 88,
   "id": "cde26925",
   "metadata": {},
   "outputs": [],
   "source": [
    "num = 0\n",
    "for key in serch_dict:\n",
    "    num += len(serch_dict[key])"
   ]
  },
  {
   "cell_type": "code",
   "execution_count": 89,
   "id": "a653ed2f",
   "metadata": {},
   "outputs": [
    {
     "data": {
      "text/plain": [
       "282"
      ]
     },
     "execution_count": 89,
     "metadata": {},
     "output_type": "execute_result"
    }
   ],
   "source": [
    "num"
   ]
  },
  {
   "cell_type": "code",
   "execution_count": 20,
   "id": "d42b55b7",
   "metadata": {},
   "outputs": [],
   "source": [
    "# ウィンドウを閉じる(driverをkillする)\n",
    "sleep(3)\n",
    "driver.quit()"
   ]
  },
  {
   "cell_type": "markdown",
   "id": "3f2669d0",
   "metadata": {},
   "source": [
    "### samples"
   ]
  },
  {
   "cell_type": "markdown",
   "id": "2c0f01d3",
   "metadata": {},
   "source": [
    "#### 文字打ち込み"
   ]
  },
  {
   "cell_type": "code",
   "execution_count": 20,
   "id": "7b5367f1",
   "metadata": {},
   "outputs": [
    {
     "data": {
      "text/plain": [
       "'# 打ち込み\\nserch_BOX.send_keys(serch_text)\\n# return\\nelem_search.submit()'"
      ]
     },
     "execution_count": 20,
     "metadata": {},
     "output_type": "execute_result"
    }
   ],
   "source": [
    "# 打ち込み\n",
    "serch_BOX.send_keys(__text)\n",
    "# return\n",
    "elem_search.submit()"
   ]
  },
  {
   "cell_type": "markdown",
   "id": "ad6c2847",
   "metadata": {},
   "source": [
    "#### ボタン等　return"
   ]
  },
  {
   "cell_type": "code",
   "execution_count": null,
   "id": "2a8c5ec7",
   "metadata": {},
   "outputs": [],
   "source": [
    "serch_button.click()"
   ]
  },
  {
   "cell_type": "markdown",
   "id": "ba9fee90",
   "metadata": {},
   "source": [
    "### nekosample"
   ]
  },
  {
   "cell_type": "code",
   "execution_count": 44,
   "id": "e79d9c1e",
   "metadata": {},
   "outputs": [],
   "source": [
    "from selenium import webdriver\n",
    "from time import sleep\n",
    "import chromedriver_binary #CHOME DRIVER\n",
    "\n",
    "from selenium.webdriver.common.by import By\n",
    "driver = webdriver.Chrome()\n",
    "\n",
    "url = 'https://www.google.com/maps'\n",
    "driver.get(url)"
   ]
  },
  {
   "cell_type": "code",
   "execution_count": 45,
   "id": "2c0631ee",
   "metadata": {},
   "outputs": [],
   "source": [
    "serch_text = \"猫カフェ　香川\""
   ]
  },
  {
   "cell_type": "code",
   "execution_count": 21,
   "id": "d7c71c2f",
   "metadata": {
    "scrolled": true
   },
   "outputs": [],
   "source": [
    "serch_BOX = driver.find_element_by_id(\"searchboxinput\")\n",
    "serch_BOX.clear()\n",
    "\n",
    "serch_BOX.send_keys(serch_text)\n",
    "\n",
    "serch_button = driver.find_element_by_id(\"searchbox-searchbutton\")\n",
    "serch_button.click()"
   ]
  },
  {
   "cell_type": "code",
   "execution_count": 41,
   "id": "1ecec3b0",
   "metadata": {},
   "outputs": [],
   "source": [
    "names = driver.find_elements_by_class_name(\"hfpxzc\")"
   ]
  },
  {
   "cell_type": "code",
   "execution_count": 43,
   "id": "f8263db1",
   "metadata": {},
   "outputs": [
    {
     "name": "stdout",
     "output_type": "stream",
     "text": [
      "猫カフェ キャットリビング ナナ\n",
      "猫カフェCOMMUNE\n",
      "cat loaf\n",
      "森の猫 Pato‘s Cafe\n",
      "おのみち 保護猫カフェ ねこのみち\n",
      "保護ねこcafe Familia カフェファミリア\n",
      "猫と過ごせる古民家カフェ そらまめの家\n",
      "Moff animal cafe\n",
      "黒猫ハウス(猫カフェ準備中)\n",
      "Luana\n"
     ]
    }
   ],
   "source": [
    "for n in names:\n",
    "    print(n.get_attribute('aria-label'))"
   ]
  },
  {
   "cell_type": "code",
   "execution_count": 20,
   "id": "a53d028f",
   "metadata": {},
   "outputs": [],
   "source": [
    "sleep(3)\n",
    "driver.quit()"
   ]
  }
 ],
 "metadata": {
  "kernelspec": {
   "display_name": "Python 3 (ipykernel)",
   "language": "python",
   "name": "python3"
  },
  "language_info": {
   "codemirror_mode": {
    "name": "ipython",
    "version": 3
   },
   "file_extension": ".py",
   "mimetype": "text/x-python",
   "name": "python",
   "nbconvert_exporter": "python",
   "pygments_lexer": "ipython3",
   "version": "3.8.10"
  }
 },
 "nbformat": 4,
 "nbformat_minor": 5
}
